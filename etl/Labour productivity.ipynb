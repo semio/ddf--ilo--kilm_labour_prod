{
 "cells": [
  {
   "cell_type": "code",
   "execution_count": 1,
   "metadata": {
    "collapsed": true
   },
   "outputs": [],
   "source": [
    "import pandas as pd\n",
    "import numpy as np\n",
    "import os\n",
    "\n",
    "from ddf_utils.str import to_concept_id\n",
    "from ddf_utils.index import create_index_file"
   ]
  },
  {
   "cell_type": "code",
   "execution_count": null,
   "metadata": {
    "collapsed": true
   },
   "outputs": [],
   "source": []
  },
  {
   "cell_type": "code",
   "execution_count": 2,
   "metadata": {
    "collapsed": true
   },
   "outputs": [],
   "source": [
    "source = 'source/kilm16.xlsx'"
   ]
  },
  {
   "cell_type": "code",
   "execution_count": 6,
   "metadata": {
    "collapsed": true
   },
   "outputs": [],
   "source": [
    "data = pd.read_excel(source, skiprows=2, sheetname=2)"
   ]
  },
  {
   "cell_type": "code",
   "execution_count": null,
   "metadata": {
    "collapsed": true
   },
   "outputs": [],
   "source": []
  },
  {
   "cell_type": "code",
   "execution_count": 7,
   "metadata": {
    "collapsed": false
   },
   "outputs": [
    {
     "data": {
      "text/html": [
       "<div>\n",
       "<table border=\"1\" class=\"dataframe\">\n",
       "  <thead>\n",
       "    <tr style=\"text-align: right;\">\n",
       "      <th></th>\n",
       "      <th>Country (code)</th>\n",
       "      <th>Country</th>\n",
       "      <th>Region</th>\n",
       "      <th>Sub-region (broad)</th>\n",
       "      <th>Sub-region (detailed)</th>\n",
       "      <th>Income group (code)</th>\n",
       "      <th>Income group</th>\n",
       "      <th>Year</th>\n",
       "      <th>GDP per person engaged (constant 1990 US$ at PPP)</th>\n",
       "      <th>GDP per person engaged (1990=100)</th>\n",
       "      <th>...</th>\n",
       "      <th>Repository</th>\n",
       "      <th>Source - GDP (code)</th>\n",
       "      <th>Source - GDP</th>\n",
       "      <th>Source - Employment (code)</th>\n",
       "      <th>Source - Employment</th>\n",
       "      <th>Source - Hours worked (code)</th>\n",
       "      <th>Source - Hours worked</th>\n",
       "      <th>GDP</th>\n",
       "      <th>Employment</th>\n",
       "      <th>Hours worked</th>\n",
       "    </tr>\n",
       "  </thead>\n",
       "  <tbody>\n",
       "    <tr>\n",
       "      <th>0</th>\n",
       "      <td>ALB</td>\n",
       "      <td>Albania</td>\n",
       "      <td>Europe and Central Asia</td>\n",
       "      <td>Northern, Southern and Western Europe</td>\n",
       "      <td>Southern Europe</td>\n",
       "      <td>III</td>\n",
       "      <td>Upper-middle income</td>\n",
       "      <td>1980</td>\n",
       "      <td>6484</td>\n",
       "      <td>98.800003</td>\n",
       "      <td>...</td>\n",
       "      <td>The Conference Board, Total Economy database</td>\n",
       "      <td>UN</td>\n",
       "      <td>UN National Accounts main Aggregates Database,...</td>\n",
       "      <td>Haver</td>\n",
       "      <td>Haver analytics, Labor Force Survey data</td>\n",
       "      <td>NaN</td>\n",
       "      <td>NaN</td>\n",
       "      <td>NaN</td>\n",
       "      <td>NaN</td>\n",
       "      <td>NaN</td>\n",
       "    </tr>\n",
       "    <tr>\n",
       "      <th>1</th>\n",
       "      <td>ALB</td>\n",
       "      <td>Albania</td>\n",
       "      <td>Europe and Central Asia</td>\n",
       "      <td>Northern, Southern and Western Europe</td>\n",
       "      <td>Southern Europe</td>\n",
       "      <td>III</td>\n",
       "      <td>Upper-middle income</td>\n",
       "      <td>1981</td>\n",
       "      <td>6425</td>\n",
       "      <td>97.900002</td>\n",
       "      <td>...</td>\n",
       "      <td>The Conference Board, Total Economy database</td>\n",
       "      <td>UN</td>\n",
       "      <td>UN National Accounts main Aggregates Database,...</td>\n",
       "      <td>Haver</td>\n",
       "      <td>Haver analytics, Labor Force Survey data</td>\n",
       "      <td>NaN</td>\n",
       "      <td>NaN</td>\n",
       "      <td>NaN</td>\n",
       "      <td>NaN</td>\n",
       "      <td>NaN</td>\n",
       "    </tr>\n",
       "    <tr>\n",
       "      <th>2</th>\n",
       "      <td>ALB</td>\n",
       "      <td>Albania</td>\n",
       "      <td>Europe and Central Asia</td>\n",
       "      <td>Northern, Southern and Western Europe</td>\n",
       "      <td>Southern Europe</td>\n",
       "      <td>III</td>\n",
       "      <td>Upper-middle income</td>\n",
       "      <td>1982</td>\n",
       "      <td>6294</td>\n",
       "      <td>95.900002</td>\n",
       "      <td>...</td>\n",
       "      <td>The Conference Board, Total Economy database</td>\n",
       "      <td>UN</td>\n",
       "      <td>UN National Accounts main Aggregates Database,...</td>\n",
       "      <td>Haver</td>\n",
       "      <td>Haver analytics, Labor Force Survey data</td>\n",
       "      <td>NaN</td>\n",
       "      <td>NaN</td>\n",
       "      <td>NaN</td>\n",
       "      <td>NaN</td>\n",
       "      <td>NaN</td>\n",
       "    </tr>\n",
       "    <tr>\n",
       "      <th>3</th>\n",
       "      <td>ALB</td>\n",
       "      <td>Albania</td>\n",
       "      <td>Europe and Central Asia</td>\n",
       "      <td>Northern, Southern and Western Europe</td>\n",
       "      <td>Southern Europe</td>\n",
       "      <td>III</td>\n",
       "      <td>Upper-middle income</td>\n",
       "      <td>1983</td>\n",
       "      <td>6276</td>\n",
       "      <td>95.699997</td>\n",
       "      <td>...</td>\n",
       "      <td>The Conference Board, Total Economy database</td>\n",
       "      <td>UN</td>\n",
       "      <td>UN National Accounts main Aggregates Database,...</td>\n",
       "      <td>Haver</td>\n",
       "      <td>Haver analytics, Labor Force Survey data</td>\n",
       "      <td>NaN</td>\n",
       "      <td>NaN</td>\n",
       "      <td>NaN</td>\n",
       "      <td>NaN</td>\n",
       "      <td>NaN</td>\n",
       "    </tr>\n",
       "    <tr>\n",
       "      <th>4</th>\n",
       "      <td>ALB</td>\n",
       "      <td>Albania</td>\n",
       "      <td>Europe and Central Asia</td>\n",
       "      <td>Northern, Southern and Western Europe</td>\n",
       "      <td>Southern Europe</td>\n",
       "      <td>III</td>\n",
       "      <td>Upper-middle income</td>\n",
       "      <td>1984</td>\n",
       "      <td>6306</td>\n",
       "      <td>96.099998</td>\n",
       "      <td>...</td>\n",
       "      <td>The Conference Board, Total Economy database</td>\n",
       "      <td>UN</td>\n",
       "      <td>UN National Accounts main Aggregates Database,...</td>\n",
       "      <td>Haver</td>\n",
       "      <td>Haver analytics, Labor Force Survey data</td>\n",
       "      <td>NaN</td>\n",
       "      <td>NaN</td>\n",
       "      <td>NaN</td>\n",
       "      <td>NaN</td>\n",
       "      <td>NaN</td>\n",
       "    </tr>\n",
       "  </tbody>\n",
       "</table>\n",
       "<p>5 rows × 23 columns</p>\n",
       "</div>"
      ],
      "text/plain": [
       "  Country (code)  Country                   Region  \\\n",
       "0            ALB  Albania  Europe and Central Asia   \n",
       "1            ALB  Albania  Europe and Central Asia   \n",
       "2            ALB  Albania  Europe and Central Asia   \n",
       "3            ALB  Albania  Europe and Central Asia   \n",
       "4            ALB  Albania  Europe and Central Asia   \n",
       "\n",
       "                      Sub-region (broad) Sub-region (detailed)  \\\n",
       "0  Northern, Southern and Western Europe       Southern Europe   \n",
       "1  Northern, Southern and Western Europe       Southern Europe   \n",
       "2  Northern, Southern and Western Europe       Southern Europe   \n",
       "3  Northern, Southern and Western Europe       Southern Europe   \n",
       "4  Northern, Southern and Western Europe       Southern Europe   \n",
       "\n",
       "  Income group (code)         Income group  Year  \\\n",
       "0                 III  Upper-middle income  1980   \n",
       "1                 III  Upper-middle income  1981   \n",
       "2                 III  Upper-middle income  1982   \n",
       "3                 III  Upper-middle income  1983   \n",
       "4                 III  Upper-middle income  1984   \n",
       "\n",
       "   GDP per person engaged (constant 1990 US$ at PPP)  \\\n",
       "0                                               6484   \n",
       "1                                               6425   \n",
       "2                                               6294   \n",
       "3                                               6276   \n",
       "4                                               6306   \n",
       "\n",
       "   GDP per person engaged (1990=100)     ...       \\\n",
       "0                          98.800003     ...        \n",
       "1                          97.900002     ...        \n",
       "2                          95.900002     ...        \n",
       "3                          95.699997     ...        \n",
       "4                          96.099998     ...        \n",
       "\n",
       "                                     Repository  Source - GDP (code)  \\\n",
       "0  The Conference Board, Total Economy database                   UN   \n",
       "1  The Conference Board, Total Economy database                   UN   \n",
       "2  The Conference Board, Total Economy database                   UN   \n",
       "3  The Conference Board, Total Economy database                   UN   \n",
       "4  The Conference Board, Total Economy database                   UN   \n",
       "\n",
       "                                        Source - GDP  \\\n",
       "0  UN National Accounts main Aggregates Database,...   \n",
       "1  UN National Accounts main Aggregates Database,...   \n",
       "2  UN National Accounts main Aggregates Database,...   \n",
       "3  UN National Accounts main Aggregates Database,...   \n",
       "4  UN National Accounts main Aggregates Database,...   \n",
       "\n",
       "  Source - Employment (code)                       Source - Employment  \\\n",
       "0                      Haver  Haver analytics, Labor Force Survey data   \n",
       "1                      Haver  Haver analytics, Labor Force Survey data   \n",
       "2                      Haver  Haver analytics, Labor Force Survey data   \n",
       "3                      Haver  Haver analytics, Labor Force Survey data   \n",
       "4                      Haver  Haver analytics, Labor Force Survey data   \n",
       "\n",
       "  Source - Hours worked (code) Source - Hours worked GDP Employment  \\\n",
       "0                          NaN                   NaN NaN        NaN   \n",
       "1                          NaN                   NaN NaN        NaN   \n",
       "2                          NaN                   NaN NaN        NaN   \n",
       "3                          NaN                   NaN NaN        NaN   \n",
       "4                          NaN                   NaN NaN        NaN   \n",
       "\n",
       "  Hours worked  \n",
       "0          NaN  \n",
       "1          NaN  \n",
       "2          NaN  \n",
       "3          NaN  \n",
       "4          NaN  \n",
       "\n",
       "[5 rows x 23 columns]"
      ]
     },
     "execution_count": 7,
     "metadata": {},
     "output_type": "execute_result"
    }
   ],
   "source": [
    "data.head()"
   ]
  },
  {
   "cell_type": "code",
   "execution_count": 8,
   "metadata": {
    "collapsed": false
   },
   "outputs": [
    {
     "data": {
      "text/plain": [
       "Index(['Country (code)', 'Country', 'Region', 'Sub-region (broad)',\n",
       "       'Sub-region (detailed)', 'Income group (code)', 'Income group', 'Year',\n",
       "       'GDP per person engaged (constant 1990 US$ at PPP)',\n",
       "       'GDP per person engaged (1990=100)',\n",
       "       'GDP per hour worked (constant 1990 US$ at PPP)',\n",
       "       'GDP per hour worked (1990=100)', 'Repository (code)', 'Repository',\n",
       "       'Source - GDP (code)', 'Source - GDP', 'Source - Employment (code)',\n",
       "       'Source - Employment', 'Source - Hours worked (code)',\n",
       "       'Source - Hours worked', 'GDP', 'Employment', 'Hours worked'],\n",
       "      dtype='object')"
      ]
     },
     "execution_count": 8,
     "metadata": {},
     "output_type": "execute_result"
    }
   ],
   "source": [
    "data.columns"
   ]
  },
  {
   "cell_type": "code",
   "execution_count": null,
   "metadata": {
    "collapsed": true
   },
   "outputs": [],
   "source": []
  }
 ],
 "metadata": {
  "kernelspec": {
   "display_name": "Python 3",
   "language": "python",
   "name": "python3"
  },
  "language_info": {
   "codemirror_mode": {
    "name": "ipython",
    "version": 3
   },
   "file_extension": ".py",
   "mimetype": "text/x-python",
   "name": "python",
   "nbconvert_exporter": "python",
   "pygments_lexer": "ipython3",
   "version": "3.5.1"
  }
 },
 "nbformat": 4,
 "nbformat_minor": 0
}
